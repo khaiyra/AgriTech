{
 "cells": [
  {
   "cell_type": "code",
   "execution_count": 1,
   "metadata": {},
   "outputs": [],
   "source": [
    "import warnings\n",
    "warnings.filterwarnings('ignore')\n",
    "#import geoplot as gplt\n",
    "\n",
    "import geopandas as gpd\n",
    "#import geoplot.crs as gcrs\n",
    "import imageio\n",
    "import pandas as pd\n",
    "import pathlib\n",
    "import matplotlib.pyplot as plt\n",
    "import mapclassify as mc\n",
    "import numpy as np\n",
    "import laspy\n",
    "import rasterio\n",
    "from rasterio import mask\n",
    "import folium"
   ]
  },
  {
   "cell_type": "code",
   "execution_count": 2,
   "metadata": {},
   "outputs": [],
   "source": [
    "## Plot raster/tif image\n",
    "\n",
    "def plot_raster(rast_data, title=''):\n",
    "    \"\"\"\n",
    "    Plots raster tif image both in log scale(+1) and original verion\n",
    "    \"\"\"\n",
    "    fig, (axlog, axorg) = plt.subplots(1, 2, figsize=(14,7))\n",
    "    im1 = axlog.imshow(np.log1p(rast_data)) # vmin=0, vmax=2.1)\n",
    "#     im2 = axorg.imshow(rast_data)\n",
    "\n",
    "    plt.title(\"{}\".format(title), fontdict = {'fontsize': 15})  \n",
    "    plt.axis('off')\n",
    "    plt.colorbar(im1, fraction=0.03)"
   ]
  },
  {
   "cell_type": "code",
   "execution_count": 5,
   "metadata": {},
   "outputs": [
    {
     "name": "stdout",
     "output_type": "stream",
     "text": [
      "zsh:1: command not found: pdal\r\n"
     ]
    }
   ],
   "source": [
    "! pdal pipeline data_read.txt"
   ]
  },
  {
   "cell_type": "code",
   "execution_count": 7,
   "metadata": {},
   "outputs": [],
   "source": [
    "# Read raster/tif file\n",
    "\n",
    "iowa_tif = 'iowa.tif'\n",
    "raster_iowa = rasterio.open(iowa_tif)\n",
    "iowa_data = raster_iowa.read(1)"
   ]
  },
  {
   "cell_type": "code",
   "execution_count": 8,
   "metadata": {},
   "outputs": [
    {
     "data": {
      "text/plain": [
       "numpy.ndarray"
      ]
     },
     "execution_count": 8,
     "metadata": {},
     "output_type": "execute_result"
    }
   ],
   "source": [
    "type(iowa_data)"
   ]
  },
  {
   "cell_type": "code",
   "execution_count": 9,
   "metadata": {},
   "outputs": [
    {
     "data": {
      "text/plain": [
       "623568522.8765817"
      ]
     },
     "execution_count": 9,
     "metadata": {},
     "output_type": "execute_result"
    }
   ],
   "source": [
    "count = iowa_data[iowa_data > 0].sum()\n",
    "count"
   ]
  },
  {
   "cell_type": "code",
   "execution_count": null,
   "metadata": {},
   "outputs": [],
   "source": []
  }
 ],
 "metadata": {
  "kernelspec": {
   "display_name": "Python 3",
   "language": "python",
   "name": "python3"
  },
  "language_info": {
   "codemirror_mode": {
    "name": "ipython",
    "version": 3
   },
   "file_extension": ".py",
   "mimetype": "text/x-python",
   "name": "python",
   "nbconvert_exporter": "python",
   "pygments_lexer": "ipython3",
   "version": "3.8.5"
  }
 },
 "nbformat": 4,
 "nbformat_minor": 4
}
