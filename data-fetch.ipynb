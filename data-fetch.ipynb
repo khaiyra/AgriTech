{
 "cells": [
  {
   "cell_type": "code",
   "execution_count": 4,
   "metadata": {},
   "outputs": [
    {
     "ename": "ModuleNotFoundError",
     "evalue": "No module named 'geoplot'",
     "output_type": "error",
     "traceback": [
      "\u001b[0;31m---------------------------------------------------------------------------\u001b[0m",
      "\u001b[0;31mModuleNotFoundError\u001b[0m                       Traceback (most recent call last)",
      "\u001b[0;32m<ipython-input-4-b8a1f7e5db23>\u001b[0m in \u001b[0;36m<module>\u001b[0;34m\u001b[0m\n\u001b[1;32m      1\u001b[0m \u001b[0;32mimport\u001b[0m \u001b[0mwarnings\u001b[0m\u001b[0;34m\u001b[0m\u001b[0;34m\u001b[0m\u001b[0m\n\u001b[1;32m      2\u001b[0m \u001b[0mwarnings\u001b[0m\u001b[0;34m.\u001b[0m\u001b[0mfilterwarnings\u001b[0m\u001b[0;34m(\u001b[0m\u001b[0;34m'ignore'\u001b[0m\u001b[0;34m)\u001b[0m\u001b[0;34m\u001b[0m\u001b[0;34m\u001b[0m\u001b[0m\n\u001b[0;32m----> 3\u001b[0;31m \u001b[0;32mimport\u001b[0m \u001b[0mgeoplot\u001b[0m \u001b[0;32mas\u001b[0m \u001b[0mgplt\u001b[0m\u001b[0;34m\u001b[0m\u001b[0;34m\u001b[0m\u001b[0m\n\u001b[0m\u001b[1;32m      4\u001b[0m \u001b[0;34m\u001b[0m\u001b[0m\n\u001b[1;32m      5\u001b[0m \u001b[0;32mimport\u001b[0m \u001b[0mgeopandas\u001b[0m \u001b[0;32mas\u001b[0m \u001b[0mgpd\u001b[0m\u001b[0;34m\u001b[0m\u001b[0;34m\u001b[0m\u001b[0m\n",
      "\u001b[0;31mModuleNotFoundError\u001b[0m: No module named 'geoplot'"
     ]
    }
   ],
   "source": [
    "import warnings\n",
    "warnings.filterwarnings('ignore')\n",
    "import geoplot as gplt\n",
    "\n",
    "import geopandas as gpd\n",
    "import geoplot.crs as gcrs\n",
    "import imageio\n",
    "import pandas as pd\n",
    "import pathlib\n",
    "import matplotlib.pyplot as plt\n",
    "import mapclassify as mc\n",
    "import numpy as np\n",
    "import laspy\n",
    "import rasterio\n",
    "from rasterio import mask\n",
    "import folium"
   ]
  },
  {
   "cell_type": "code",
   "execution_count": 3,
   "metadata": {},
   "outputs": [
    {
     "name": "stdout",
     "output_type": "stream",
     "text": [
      "Collecting geopandas\n",
      "  Downloading geopandas-0.9.0-py2.py3-none-any.whl (994 kB)\n",
      "\u001b[K     |████████████████████████████████| 994 kB 191 kB/s eta 0:00:01\n",
      "\u001b[?25hCollecting shapely>=1.6\n",
      "  Downloading Shapely-1.7.1-cp38-cp38-macosx_10_9_x86_64.whl (1.0 MB)\n",
      "\u001b[K     |████████████████████████████████| 1.0 MB 184 kB/s eta 0:00:01     |██████████████▊                 | 471 kB 249 kB/s eta 0:00:03\n",
      "\u001b[?25hCollecting fiona>=1.8\n",
      "  Downloading Fiona-1.8.20-cp38-cp38-macosx_10_9_x86_64.whl (19.3 MB)\n",
      "\u001b[K     |████████████████████████████████| 19.3 MB 545 kB/s eta 0:00:01\n",
      "\u001b[?25hCollecting pyproj>=2.2.0\n",
      "  Downloading pyproj-3.1.0-cp38-cp38-macosx_10_9_x86_64.whl (7.6 MB)\n",
      "\u001b[K     |████████████████████████████████| 7.6 MB 303 kB/s eta 0:00:01\n",
      "\u001b[?25hRequirement already satisfied: pandas>=0.24.0 in /Users/khaiyra/opt/anaconda3/lib/python3.8/site-packages (from geopandas) (1.3.1)\n",
      "Requirement already satisfied: munch in /Users/khaiyra/opt/anaconda3/lib/python3.8/site-packages (from fiona>=1.8->geopandas) (2.5.0)\n",
      "Collecting cligj>=0.5\n",
      "  Downloading cligj-0.7.2-py3-none-any.whl (7.1 kB)\n",
      "Collecting click-plugins>=1.0\n",
      "  Downloading click_plugins-1.1.1-py2.py3-none-any.whl (7.5 kB)\n",
      "Requirement already satisfied: certifi in /Users/khaiyra/opt/anaconda3/lib/python3.8/site-packages (from fiona>=1.8->geopandas) (2021.5.30)\n",
      "Requirement already satisfied: attrs>=17 in /Users/khaiyra/opt/anaconda3/lib/python3.8/site-packages (from fiona>=1.8->geopandas) (21.2.0)\n",
      "Requirement already satisfied: six>=1.7 in /Users/khaiyra/opt/anaconda3/lib/python3.8/site-packages (from fiona>=1.8->geopandas) (1.16.0)\n",
      "Requirement already satisfied: setuptools in /Users/khaiyra/opt/anaconda3/lib/python3.8/site-packages (from fiona>=1.8->geopandas) (57.4.0)\n",
      "Requirement already satisfied: click>=4.0 in /Users/khaiyra/opt/anaconda3/lib/python3.8/site-packages (from fiona>=1.8->geopandas) (8.0.1)\n",
      "Requirement already satisfied: pytz>=2017.3 in /Users/khaiyra/opt/anaconda3/lib/python3.8/site-packages (from pandas>=0.24.0->geopandas) (2021.1)\n",
      "Requirement already satisfied: python-dateutil>=2.7.3 in /Users/khaiyra/opt/anaconda3/lib/python3.8/site-packages (from pandas>=0.24.0->geopandas) (2.8.2)\n",
      "Requirement already satisfied: numpy>=1.17.3 in /Users/khaiyra/opt/anaconda3/lib/python3.8/site-packages (from pandas>=0.24.0->geopandas) (1.21.1)\n",
      "Installing collected packages: shapely, cligj, click-plugins, fiona, pyproj, geopandas\n",
      "Successfully installed click-plugins-1.1.1 cligj-0.7.2 fiona-1.8.20 geopandas-0.9.0 pyproj-3.1.0 shapely-1.7.1\n",
      "Note: you may need to restart the kernel to use updated packages.\n"
     ]
    }
   ],
   "source": [
    "pip install geopandas"
   ]
  },
  {
   "cell_type": "code",
   "execution_count": 5,
   "metadata": {},
   "outputs": [
    {
     "name": "stdout",
     "output_type": "stream",
     "text": [
      "Collecting geoplot\n",
      "  Downloading geoplot-0.4.3-py3-none-any.whl (29 kB)\n",
      "Collecting contextily>=1.0.0\n",
      "  Downloading contextily-1.1.0-py3-none-any.whl (24 kB)\n",
      "Collecting cartopy\n",
      "  Downloading Cartopy-0.19.0.post1.tar.gz (12.1 MB)\n",
      "\u001b[K     |████████████████████████████████| 12.1 MB 249 kB/s eta 0:00:01\n",
      "\u001b[?25h  Installing build dependencies ... \u001b[?25ldone\n",
      "\u001b[?25h  Getting requirements to build wheel ... \u001b[?25lerror\n",
      "\u001b[31m  ERROR: Command errored out with exit status 1:\n",
      "   command: /Users/khaiyra/opt/anaconda3/bin/python /Users/khaiyra/opt/anaconda3/lib/python3.8/site-packages/pip/_vendor/pep517/_in_process.py get_requires_for_build_wheel /var/folders/h1/_t67l5nx6fqgkh78_k9nq9gh0000gn/T/tmpac0b9z2f\n",
      "       cwd: /private/var/folders/h1/_t67l5nx6fqgkh78_k9nq9gh0000gn/T/pip-install-53xftj9m/cartopy\n",
      "  Complete output (3 lines):\n",
      "  setup.py:117: UserWarning: Unable to determine GEOS version. Ensure you have 3.3.3 or later installed, or installation may fail.\n",
      "    warnings.warn(\n",
      "  Proj 4.9.0 must be installed.\n",
      "  ----------------------------------------\u001b[0m\n",
      "\u001b[31mERROR: Command errored out with exit status 1: /Users/khaiyra/opt/anaconda3/bin/python /Users/khaiyra/opt/anaconda3/lib/python3.8/site-packages/pip/_vendor/pep517/_in_process.py get_requires_for_build_wheel /var/folders/h1/_t67l5nx6fqgkh78_k9nq9gh0000gn/T/tmpac0b9z2f Check the logs for full command output.\u001b[0m\n",
      "\u001b[?25hNote: you may need to restart the kernel to use updated packages.\n"
     ]
    }
   ],
   "source": [
    "pip install geoplot"
   ]
  },
  {
   "cell_type": "code",
   "execution_count": null,
   "metadata": {},
   "outputs": [],
   "source": []
  }
 ],
 "metadata": {
  "kernelspec": {
   "display_name": "Python 3",
   "language": "python",
   "name": "python3"
  },
  "language_info": {
   "codemirror_mode": {
    "name": "ipython",
    "version": 3
   },
   "file_extension": ".py",
   "mimetype": "text/x-python",
   "name": "python",
   "nbconvert_exporter": "python",
   "pygments_lexer": "ipython3",
   "version": "3.8.5"
  }
 },
 "nbformat": 4,
 "nbformat_minor": 4
}
